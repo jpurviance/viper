{
 "cells": [
  {
   "cell_type": "code",
   "execution_count": 9,
   "metadata": {},
   "outputs": [
    {
     "name": "stdout",
     "output_type": "stream",
     "text": [
      "0e1e9002-a25e-4521-a72d-6199de14dc6a\n"
     ]
    }
   ],
   "source": [
    "from client import viper \n",
    "\n",
    "def times_2(number=None, **kwargs):\n",
    "    return {\"number_x_2\": number * 2}\n",
    "\n",
    "def add_1(number_x_2=None, **kwargs):\n",
    "    return {\"number_plus_1\": number_x_2 + 1}\n",
    "\n",
    "def invert(number_x_2=None, **kwargs):\n",
    "    return {\"number_inverted\": -number_x_2}\n",
    "\n",
    "times_task = viper.Task(\"times_task\", times_2)\n",
    "add_task = viper.Task(\"add_task\", add_1)\n",
    "invert_task = viper.Task(\"invert_task\", invert)\n",
    "\n",
    "times_task >> add_task\n",
    "times_task >> invert_task\n",
    "job_id = times_task.run(\"localhost:8000\", None, {\"number\": 100}).decode('ascii')\n",
    "print(job_id)"
   ]
  },
  {
   "cell_type": "code",
   "execution_count": 10,
   "metadata": {},
   "outputs": [
    {
     "data": {
      "text/plain": [
       "'[{\"name\": \"times_task\", \"total_time\": 9.5367431640625e-06, \"status\": \"completed\"}, {\"name\": \"add_task\", \"total_time\": 4.5299530029296875e-06, \"status\": \"completed\"}, {\"name\": \"invert_task\", \"total_time\": 4.76837158203125e-06, \"status\": \"completed\"}]'"
      ]
     },
     "execution_count": 10,
     "metadata": {},
     "output_type": "execute_result"
    }
   ],
   "source": [
    "viper.get_job_status(\"localhost:8000\", job_id).decode('ascii')"
   ]
  },
  {
   "cell_type": "code",
   "execution_count": 11,
   "metadata": {
    "scrolled": true
   },
   "outputs": [
    {
     "data": {
      "text/plain": [
       "{'add_task': {'number_plus_1': 201}, 'invert_task': {'number_inverted': -200}}"
      ]
     },
     "execution_count": 11,
     "metadata": {},
     "output_type": "execute_result"
    }
   ],
   "source": [
    "viper.get_job_results(\"localhost:8000\", job_id)"
   ]
  },
  {
   "cell_type": "code",
   "execution_count": null,
   "metadata": {},
   "outputs": [],
   "source": []
  },
  {
   "cell_type": "code",
   "execution_count": null,
   "metadata": {},
   "outputs": [],
   "source": []
  }
 ],
 "metadata": {
  "kernelspec": {
   "display_name": "Python 3",
   "language": "python",
   "name": "python3"
  },
  "language_info": {
   "codemirror_mode": {
    "name": "ipython",
    "version": 3
   },
   "file_extension": ".py",
   "mimetype": "text/x-python",
   "name": "python",
   "nbconvert_exporter": "python",
   "pygments_lexer": "ipython3",
   "version": "3.6.3"
  }
 },
 "nbformat": 4,
 "nbformat_minor": 2
}
