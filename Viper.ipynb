{
 "cells": [
  {
   "cell_type": "code",
   "execution_count": 29,
   "metadata": {},
   "outputs": [
    {
     "name": "stdout",
     "output_type": "stream",
     "text": [
      "2ed9dfc7-efd3-4f5d-9eef-ad3727b897e2\n"
     ]
    }
   ],
   "source": [
    "from client import viper \n",
    "import time\n",
    "server = \"localhost:8000\"\n",
    "#server = \"ec2-54-84-252-223.compute-1.amazonaws.com:80\"\n",
    "\n",
    "def times_2(number=None, **kwargs):\n",
    "    time.sleep(5)\n",
    "    return {\"number_x_2\": number * 2}\n",
    "\n",
    "def add_1(number_x_2=None, **kwargs):\n",
    "    time.sleep(5)\n",
    "    return {\"number_plus_1\": number_x_2 + 1}\n",
    "\n",
    "def invert(number_plus_1=None, **kwargs):\n",
    "    time.sleep(5)\n",
    "    print(number_plus_1)\n",
    "    return {\"number_inverted\": -number_plus_1}\n",
    "\n",
    "times_task = viper.Task(\"times_task\", times_2)\n",
    "add_task = viper.Task(\"add_task\", add_1)\n",
    "invert_task = viper.Task(\"invert_task\", invert)\n",
    "\n",
    "times_task >> add_task >> invert_task\n",
    "job_id = times_task.run(server, None, {\"number\": 100}).decode('ascii')\n",
    "print(job_id)"
   ]
  },
  {
   "cell_type": "code",
   "execution_count": 30,
   "metadata": {
    "scrolled": false
   },
   "outputs": [
    {
     "data": {
      "text/plain": [
       "'[{\"name\": \"times_task\", \"total_time\": 5.006136178970337, \"status\": \"completed\"}, {\"name\": \"add_task\", \"total_time\": 5.005398988723755, \"status\": \"completed\"}, {\"name\": \"invert_task\", \"total_time\": 5.005107879638672, \"status\": \"completed\"}]'"
      ]
     },
     "execution_count": 30,
     "metadata": {},
     "output_type": "execute_result"
    }
   ],
   "source": [
    "viper.get_job_status(server, job_id).decode('ascii')"
   ]
  },
  {
   "cell_type": "code",
   "execution_count": 31,
   "metadata": {
    "scrolled": false
   },
   "outputs": [
    {
     "data": {
      "text/plain": [
       "{'invert_task': {'number_inverted': -201}}"
      ]
     },
     "execution_count": 31,
     "metadata": {},
     "output_type": "execute_result"
    }
   ],
   "source": [
    "viper.get_job_results(server, job_id)"
   ]
  },
  {
   "cell_type": "code",
   "execution_count": null,
   "metadata": {},
   "outputs": [],
   "source": []
  },
  {
   "cell_type": "code",
   "execution_count": null,
   "metadata": {},
   "outputs": [],
   "source": []
  }
 ],
 "metadata": {
  "kernelspec": {
   "display_name": "Python 3",
   "language": "python",
   "name": "python3"
  },
  "language_info": {
   "codemirror_mode": {
    "name": "ipython",
    "version": 3
   },
   "file_extension": ".py",
   "mimetype": "text/x-python",
   "name": "python",
   "nbconvert_exporter": "python",
   "pygments_lexer": "ipython3",
   "version": "3.6.3"
  }
 },
 "nbformat": 4,
 "nbformat_minor": 2
}
